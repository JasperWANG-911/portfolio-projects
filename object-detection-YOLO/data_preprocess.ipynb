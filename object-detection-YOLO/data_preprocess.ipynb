{
 "cells": [
  {
   "cell_type": "code",
   "id": "initial_id",
   "metadata": {
    "collapsed": true,
    "ExecuteTime": {
     "end_time": "2025-01-22T19:19:58.514726Z",
     "start_time": "2025-01-22T19:19:58.510695Z"
    }
   },
   "source": [
    "import fitz\n",
    "from PIL import Image\n",
    "import os\n",
    "import cv2\n",
    "import albumentations as A\n",
    "from tqdm import tqdm\n",
    "import random\n",
    "\n",
    "Image.MAX_IMAGE_PIXELS = None"
   ],
   "outputs": [],
   "execution_count": 21
  },
  {
   "metadata": {},
   "cell_type": "markdown",
   "source": "Convert PDF to PNG",
   "id": "be58c00b5bf16858"
  },
  {
   "metadata": {},
   "cell_type": "code",
   "source": [
    "def convert_pdf_to_image(pdf_path, dpi):\n",
    "    pdf_document = fitz.open(pdf_path)\n",
    "    page = pdf_document.load_page(0)\n",
    "    mat = fitz.Matrix(dpi / 72, dpi / 72)\n",
    "    pix = page.get_pixmap(matrix=mat)\n",
    "    image_path = \"cropped_image.png\"\n",
    "    pix.save(image_path)"
   ],
   "id": "a1fdecc32a4924be",
   "outputs": [],
   "execution_count": null
  },
  {
   "metadata": {},
   "cell_type": "code",
   "source": [
    "pdf_path = \"68484 - Longley Area Park, Sheffield - Site 3 - Orthomosaic.pdf\"\n",
    "convert_pdf_to_image(pdf_path, 1200)"
   ],
   "id": "19022f4686943ffd",
   "outputs": [],
   "execution_count": null
  },
  {
   "metadata": {},
   "cell_type": "markdown",
   "source": "Crop images",
   "id": "35b4cc5dccc5882c"
  },
  {
   "metadata": {},
   "cell_type": "code",
   "source": [
    "def crop_image(image_path, square_size, output_folder):\n",
    "    image = Image.open(image_path)\n",
    "    width, height = image.size\n",
    "    x_steps = (width + square_size - 1) // square_size\n",
    "    y_steps = (height + square_size - 1) // square_size\n",
    "\n",
    "    if not os.path.exists(output_folder):  # Create the output folder if it doesn't exist\n",
    "        os.makedirs(output_folder)\n",
    "\n",
    "    # Find the highest existing crop number\n",
    "    existing_crops = [f for f in os.listdir(output_folder) if f.startswith('crop_') and f.endswith('.png')]\n",
    "    start_count = 0\n",
    "    if existing_crops:\n",
    "        # Extract numbers from filenames and find the maximum\n",
    "        numbers = [int(f.split('_')[1].split('.')[0]) for f in existing_crops]\n",
    "        start_count = max(numbers) + 1\n",
    "\n",
    "    count = start_count\n",
    "    for y in range(y_steps):\n",
    "        for x in range(x_steps):\n",
    "            left = x * square_size\n",
    "            upper = y * square_size\n",
    "            right = min(left + square_size, width)\n",
    "            lower = min(upper + square_size, height)\n",
    "\n",
    "            # Crop and save the square\n",
    "            cropped_image = image.crop((left, upper, right, lower))\n",
    "            output_path = os.path.join(output_folder, f'crop_{count}.png')\n",
    "            cropped_image.save(output_path)\n",
    "            count += 1"
   ],
   "id": "6919ba8a7f28ac8c",
   "outputs": [],
   "execution_count": null
  },
  {
   "metadata": {},
   "cell_type": "code",
   "source": "crop_image('image_68484 - Longley Area Park, Sheffield - Site 3.png', 1000, 'cropped_images')",
   "id": "2315cc69355b5571",
   "outputs": [],
   "execution_count": null
  },
  {
   "metadata": {},
   "cell_type": "markdown",
   "source": "Data augmentation",
   "id": "c795412d0e7ed567"
  },
  {
   "metadata": {
    "ExecuteTime": {
     "end_time": "2025-01-22T19:22:12.980764Z",
     "start_time": "2025-01-22T19:22:12.974513Z"
    }
   },
   "cell_type": "code",
   "source": [
    "# load images\n",
    "def load_images(folder_path):\n",
    "    return [os.path.join(folder_path, filename) for filename in os.listdir(folder_path)]\n",
    "\n",
    "# save images\n",
    "def save_augmented_image(image, output_path, original_path):\n",
    "    filename = os.path.basename(original_path)\n",
    "    output_filepath = os.path.join(output_path, filename)\n",
    "    cv2.imwrite(output_filepath, cv2.cvtColor(image, cv2.COLOR_RGB2BGR))\n",
    "\n",
    "def apply_augmentations(input_folder, output_folder):\n",
    "    if not os.path.exists(output_folder):\n",
    "        os.makedirs(output_folder)\n",
    "\n",
    "    # data augmentation methods\n",
    "    augmentations = {\n",
    "        'flip': A.Compose([\n",
    "            A.HorizontalFlip(p=1.0),  # horizontal flip\n",
    "            A.VerticalFlip(p=1.0)     # vertical flip\n",
    "        ]),\n",
    "        'rotate': A.Compose([\n",
    "            A.RandomRotate90(p=1.0),  # random rotation\n",
    "        ]),\n",
    "        'color': A.Compose([\n",
    "            A.RandomBrightnessContrast(p=1.0),  # random brightness and contrast\n",
    "            A.HueSaturationValue(p=1.0)         # random saturation value\n",
    "        ]),\n",
    "        'noise': A.Compose([\n",
    "            A.GaussNoise(p=1.0),              # Gauss noise\n",
    "            A.ISONoise(p=1.0)                 # ISO noise\n",
    "        ]),\n",
    "        'blur': A.Compose([\n",
    "            A.GaussianBlur(p=1.0),           # Gaussian blur\n",
    "            A.MotionBlur(p=1.0)              # Motion blur\n",
    "        ])\n",
    "    }\n",
    "\n",
    "    aug_types = list(augmentations.keys())\n",
    "\n",
    "    # load images\n",
    "    image_paths = load_images(input_folder)\n",
    "\n",
    "    # apply a random augmentation method to each image\n",
    "    for img_path in tqdm(image_paths):\n",
    "        # read the images\n",
    "        image = cv2.imread(img_path)\n",
    "        image = cv2.cvtColor(image, cv2.COLOR_BGR2RGB)\n",
    "\n",
    "        # choose a random augmentation method\n",
    "        aug_type = random.choice(aug_types)\n",
    "        transform = augmentations[aug_type]\n",
    "\n",
    "        # apply augmentation and save\n",
    "        augmented = transform(image=image)['image']\n",
    "        save_augmented_image(augmented, output_folder, img_path)"
   ],
   "id": "bd88ddc22ecc1ecb",
   "outputs": [],
   "execution_count": 25
  },
  {
   "metadata": {
    "ExecuteTime": {
     "end_time": "2025-01-22T19:25:50.177668Z",
     "start_time": "2025-01-22T19:22:16.195863Z"
    }
   },
   "cell_type": "code",
   "source": "apply_augmentations('cropped_images', 'augmented_images')",
   "id": "1adc90d422b0a8a1",
   "outputs": [
    {
     "name": "stderr",
     "output_type": "stream",
     "text": [
      "100%|██████████| 3440/3440 [03:33<00:00, 16.08it/s]\n"
     ]
    }
   ],
   "execution_count": 26
  }
 ],
 "metadata": {
  "kernelspec": {
   "display_name": "Python 3",
   "language": "python",
   "name": "python3"
  },
  "language_info": {
   "codemirror_mode": {
    "name": "ipython",
    "version": 2
   },
   "file_extension": ".py",
   "mimetype": "text/x-python",
   "name": "python",
   "nbconvert_exporter": "python",
   "pygments_lexer": "ipython2",
   "version": "2.7.6"
  }
 },
 "nbformat": 4,
 "nbformat_minor": 5
}
